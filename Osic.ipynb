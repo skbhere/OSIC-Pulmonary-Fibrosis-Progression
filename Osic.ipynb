{
  "nbformat": 4,
  "nbformat_minor": 0,
  "metadata": {
    "colab": {
      "name": "Untitled9.ipynb",
      "provenance": [],
      "collapsed_sections": [],
      "authorship_tag": "ABX9TyNW+3nS3huc9VBgH2QBCuDD",
      "include_colab_link": true
    },
    "kernelspec": {
      "name": "python3",
      "display_name": "Python 3"
    }
  },
  "cells": [
    {
      "cell_type": "markdown",
      "metadata": {
        "id": "view-in-github",
        "colab_type": "text"
      },
      "source": [
        "<a href=\"https://colab.research.google.com/github/skbhere/OSIC-Pulmonary-Fibrosis-Progression/blob/master/Osic.ipynb\" target=\"_parent\"><img src=\"https://colab.research.google.com/assets/colab-badge.svg\" alt=\"Open In Colab\"/></a>"
      ]
    },
    {
      "cell_type": "markdown",
      "metadata": {
        "id": "LpAzOTEvU4uO",
        "colab_type": "text"
      },
      "source": [
        "**OSIC Pulmonary Fibrosis Progression**"
      ]
    },
    {
      "cell_type": "code",
      "metadata": {
        "id": "9nW1G6YqVC_b",
        "colab_type": "code",
        "colab": {}
      },
      "source": [
        "import pandas as pd \n",
        "import numpy as np\n",
        "from sklearn.model_selection import train_test_split\n",
        "from keras.models import Sequential\n",
        "from keras.layers import Dense\n",
        "from sklearn.preprocessing import MinMaxScaler\n",
        "import tensorflow as tf\n"
      ],
      "execution_count": 568,
      "outputs": []
    },
    {
      "cell_type": "code",
      "metadata": {
        "id": "mTOCmOZDU0Gr",
        "colab_type": "code",
        "colab": {}
      },
      "source": [
        "df = pd.read_csv(\"train.csv\")"
      ],
      "execution_count": 569,
      "outputs": []
    },
    {
      "cell_type": "code",
      "metadata": {
        "id": "wQ6PhZvfVSjX",
        "colab_type": "code",
        "colab": {
          "base_uri": "https://localhost:8080/",
          "height": 204
        },
        "outputId": "d4ffc472-ac1c-4db8-f4c3-743be42828ec"
      },
      "source": [
        "df.tail()"
      ],
      "execution_count": 570,
      "outputs": [
        {
          "output_type": "execute_result",
          "data": {
            "text/html": [
              "<div>\n",
              "<style scoped>\n",
              "    .dataframe tbody tr th:only-of-type {\n",
              "        vertical-align: middle;\n",
              "    }\n",
              "\n",
              "    .dataframe tbody tr th {\n",
              "        vertical-align: top;\n",
              "    }\n",
              "\n",
              "    .dataframe thead th {\n",
              "        text-align: right;\n",
              "    }\n",
              "</style>\n",
              "<table border=\"1\" class=\"dataframe\">\n",
              "  <thead>\n",
              "    <tr style=\"text-align: right;\">\n",
              "      <th></th>\n",
              "      <th>Patient</th>\n",
              "      <th>Weeks</th>\n",
              "      <th>FVC</th>\n",
              "      <th>Percent</th>\n",
              "      <th>Age</th>\n",
              "      <th>Sex</th>\n",
              "      <th>SmokingStatus</th>\n",
              "    </tr>\n",
              "  </thead>\n",
              "  <tbody>\n",
              "    <tr>\n",
              "      <th>1544</th>\n",
              "      <td>ID00426637202313170790466</td>\n",
              "      <td>13</td>\n",
              "      <td>2712</td>\n",
              "      <td>66.594637</td>\n",
              "      <td>73</td>\n",
              "      <td>Male</td>\n",
              "      <td>Never smoked</td>\n",
              "    </tr>\n",
              "    <tr>\n",
              "      <th>1545</th>\n",
              "      <td>ID00426637202313170790466</td>\n",
              "      <td>19</td>\n",
              "      <td>2978</td>\n",
              "      <td>73.126412</td>\n",
              "      <td>73</td>\n",
              "      <td>Male</td>\n",
              "      <td>Never smoked</td>\n",
              "    </tr>\n",
              "    <tr>\n",
              "      <th>1546</th>\n",
              "      <td>ID00426637202313170790466</td>\n",
              "      <td>31</td>\n",
              "      <td>2908</td>\n",
              "      <td>71.407524</td>\n",
              "      <td>73</td>\n",
              "      <td>Male</td>\n",
              "      <td>Never smoked</td>\n",
              "    </tr>\n",
              "    <tr>\n",
              "      <th>1547</th>\n",
              "      <td>ID00426637202313170790466</td>\n",
              "      <td>43</td>\n",
              "      <td>2975</td>\n",
              "      <td>73.052745</td>\n",
              "      <td>73</td>\n",
              "      <td>Male</td>\n",
              "      <td>Never smoked</td>\n",
              "    </tr>\n",
              "    <tr>\n",
              "      <th>1548</th>\n",
              "      <td>ID00426637202313170790466</td>\n",
              "      <td>59</td>\n",
              "      <td>2774</td>\n",
              "      <td>68.117081</td>\n",
              "      <td>73</td>\n",
              "      <td>Male</td>\n",
              "      <td>Never smoked</td>\n",
              "    </tr>\n",
              "  </tbody>\n",
              "</table>\n",
              "</div>"
            ],
            "text/plain": [
              "                        Patient  Weeks   FVC  ...  Age   Sex SmokingStatus\n",
              "1544  ID00426637202313170790466     13  2712  ...   73  Male  Never smoked\n",
              "1545  ID00426637202313170790466     19  2978  ...   73  Male  Never smoked\n",
              "1546  ID00426637202313170790466     31  2908  ...   73  Male  Never smoked\n",
              "1547  ID00426637202313170790466     43  2975  ...   73  Male  Never smoked\n",
              "1548  ID00426637202313170790466     59  2774  ...   73  Male  Never smoked\n",
              "\n",
              "[5 rows x 7 columns]"
            ]
          },
          "metadata": {
            "tags": []
          },
          "execution_count": 570
        }
      ]
    },
    {
      "cell_type": "code",
      "metadata": {
        "id": "S-DMmICxgqUh",
        "colab_type": "code",
        "colab": {}
      },
      "source": [
        "df['Patient_number'] = pd.Categorical((pd.factorize(df.Patient)[0] + 1).astype(np.float32))"
      ],
      "execution_count": 571,
      "outputs": []
    },
    {
      "cell_type": "code",
      "metadata": {
        "id": "Ff06Y5OoXAaJ",
        "colab_type": "code",
        "colab": {}
      },
      "source": [
        "sex_dummy = pd.get_dummies(df.Sex)\n",
        "smoke_dummy = pd.get_dummies(df.SmokingStatus)\n",
        "df[\"Male\"],df[\"Female\"]=sex_dummy[\"Male\"],sex_dummy[\"Female\"]\n",
        "df[\"Ex-smoker\"],df[\"Never smoked\"]=smoke_dummy[\"Ex-smoker\"],smoke_dummy[\"Never smoked\"]\n",
        "df_patient =df\n",
        "df=df.drop(['Sex', 'SmokingStatus',\"Patient\"], axis=1)"
      ],
      "execution_count": 572,
      "outputs": []
    },
    {
      "cell_type": "code",
      "metadata": {
        "id": "ExIXJRRDZb_U",
        "colab_type": "code",
        "colab": {}
      },
      "source": [
        "df_patient=df_patient.drop(['Sex', 'SmokingStatus',\"Percent\",\"Weeks\",\"FVC\",\"Age\",\"Male\",\"Female\",\"Ex-smoker\",\"Never smoked\"], axis=1)"
      ],
      "execution_count": 573,
      "outputs": []
    },
    {
      "cell_type": "code",
      "metadata": {
        "id": "jk_AMaWa6EhX",
        "colab_type": "code",
        "colab": {
          "base_uri": "https://localhost:8080/",
          "height": 204
        },
        "outputId": "a02374f8-9eae-4f61-9377-8d8ba05ba68b"
      },
      "source": [
        "df.head()"
      ],
      "execution_count": 574,
      "outputs": [
        {
          "output_type": "execute_result",
          "data": {
            "text/html": [
              "<div>\n",
              "<style scoped>\n",
              "    .dataframe tbody tr th:only-of-type {\n",
              "        vertical-align: middle;\n",
              "    }\n",
              "\n",
              "    .dataframe tbody tr th {\n",
              "        vertical-align: top;\n",
              "    }\n",
              "\n",
              "    .dataframe thead th {\n",
              "        text-align: right;\n",
              "    }\n",
              "</style>\n",
              "<table border=\"1\" class=\"dataframe\">\n",
              "  <thead>\n",
              "    <tr style=\"text-align: right;\">\n",
              "      <th></th>\n",
              "      <th>Weeks</th>\n",
              "      <th>FVC</th>\n",
              "      <th>Percent</th>\n",
              "      <th>Age</th>\n",
              "      <th>Patient_number</th>\n",
              "      <th>Male</th>\n",
              "      <th>Female</th>\n",
              "      <th>Ex-smoker</th>\n",
              "      <th>Never smoked</th>\n",
              "    </tr>\n",
              "  </thead>\n",
              "  <tbody>\n",
              "    <tr>\n",
              "      <th>0</th>\n",
              "      <td>-4</td>\n",
              "      <td>2315</td>\n",
              "      <td>58.253649</td>\n",
              "      <td>79</td>\n",
              "      <td>1.0</td>\n",
              "      <td>1</td>\n",
              "      <td>0</td>\n",
              "      <td>1</td>\n",
              "      <td>0</td>\n",
              "    </tr>\n",
              "    <tr>\n",
              "      <th>1</th>\n",
              "      <td>5</td>\n",
              "      <td>2214</td>\n",
              "      <td>55.712129</td>\n",
              "      <td>79</td>\n",
              "      <td>1.0</td>\n",
              "      <td>1</td>\n",
              "      <td>0</td>\n",
              "      <td>1</td>\n",
              "      <td>0</td>\n",
              "    </tr>\n",
              "    <tr>\n",
              "      <th>2</th>\n",
              "      <td>7</td>\n",
              "      <td>2061</td>\n",
              "      <td>51.862104</td>\n",
              "      <td>79</td>\n",
              "      <td>1.0</td>\n",
              "      <td>1</td>\n",
              "      <td>0</td>\n",
              "      <td>1</td>\n",
              "      <td>0</td>\n",
              "    </tr>\n",
              "    <tr>\n",
              "      <th>3</th>\n",
              "      <td>9</td>\n",
              "      <td>2144</td>\n",
              "      <td>53.950679</td>\n",
              "      <td>79</td>\n",
              "      <td>1.0</td>\n",
              "      <td>1</td>\n",
              "      <td>0</td>\n",
              "      <td>1</td>\n",
              "      <td>0</td>\n",
              "    </tr>\n",
              "    <tr>\n",
              "      <th>4</th>\n",
              "      <td>11</td>\n",
              "      <td>2069</td>\n",
              "      <td>52.063412</td>\n",
              "      <td>79</td>\n",
              "      <td>1.0</td>\n",
              "      <td>1</td>\n",
              "      <td>0</td>\n",
              "      <td>1</td>\n",
              "      <td>0</td>\n",
              "    </tr>\n",
              "  </tbody>\n",
              "</table>\n",
              "</div>"
            ],
            "text/plain": [
              "   Weeks   FVC    Percent  Age  ... Male  Female  Ex-smoker  Never smoked\n",
              "0     -4  2315  58.253649   79  ...    1       0          1             0\n",
              "1      5  2214  55.712129   79  ...    1       0          1             0\n",
              "2      7  2061  51.862104   79  ...    1       0          1             0\n",
              "3      9  2144  53.950679   79  ...    1       0          1             0\n",
              "4     11  2069  52.063412   79  ...    1       0          1             0\n",
              "\n",
              "[5 rows x 9 columns]"
            ]
          },
          "metadata": {
            "tags": []
          },
          "execution_count": 574
        }
      ]
    },
    {
      "cell_type": "code",
      "metadata": {
        "id": "uErc3Gmab48y",
        "colab_type": "code",
        "colab": {}
      },
      "source": [
        "x=df[['Weeks','Percent','Patient_number','Male','Female',\"Ex-smoker\",\"Never smoked\",\"Age\"]].values\n",
        "y=df[['FVC']].values\n",
        "# scalar = MinMaxScaler()\n",
        "# scalar.fit(x)\n",
        "# x = scalar.transform(x)"
      ],
      "execution_count": 575,
      "outputs": []
    },
    {
      "cell_type": "code",
      "metadata": {
        "id": "QgjS9Qq3cX1q",
        "colab_type": "code",
        "colab": {}
      },
      "source": [
        " X_train, X_test, y_train, y_test = train_test_split(x,y, test_size=0.33, random_state=42)"
      ],
      "execution_count": 576,
      "outputs": []
    },
    {
      "cell_type": "code",
      "metadata": {
        "id": "zeNytG6beWYB",
        "colab_type": "code",
        "colab": {
          "base_uri": "https://localhost:8080/",
          "height": 34
        },
        "outputId": "c2d23839-d39b-4b71-8c69-bbd4302c5b08"
      },
      "source": [
        "X_train.shape[1]"
      ],
      "execution_count": 577,
      "outputs": [
        {
          "output_type": "execute_result",
          "data": {
            "text/plain": [
              "8"
            ]
          },
          "metadata": {
            "tags": []
          },
          "execution_count": 577
        }
      ]
    },
    {
      "cell_type": "code",
      "metadata": {
        "id": "-WBZKPmBGefs",
        "colab_type": "code",
        "colab": {
          "base_uri": "https://localhost:8080/",
          "height": 323
        },
        "outputId": "8648555a-1d75-4106-da57-7306f83cc1ec"
      },
      "source": [
        "NN_model = Sequential()\n",
        "\n",
        "# The Input Layer :\n",
        "NN_model.add(Dense(128, kernel_initializer='normal',input_dim = X_train.shape[1], activation='relu'))\n",
        "\n",
        "# The Hidden Layers :\n",
        "NN_model.add(Dense(256, kernel_initializer='normal',activation='relu'))\n",
        "NN_model.add(Dense(256, kernel_initializer='normal',activation='relu'))\n",
        "NN_model.add(Dense(256, kernel_initializer='normal',activation='relu'))\n",
        "\n",
        "# The Output Layer :\n",
        "NN_model.add(Dense(1, kernel_initializer='normal',activation='linear'))\n",
        "\n",
        "# Compile the network :\n",
        "NN_model.compile(loss='mean_absolute_error', optimizer='adam', metrics=['mean_absolute_percentage_error']) \n",
        "NN_model.summary()"
      ],
      "execution_count": 578,
      "outputs": [
        {
          "output_type": "stream",
          "text": [
            "Model: \"sequential_32\"\n",
            "_________________________________________________________________\n",
            "Layer (type)                 Output Shape              Param #   \n",
            "=================================================================\n",
            "dense_118 (Dense)            (None, 128)               1152      \n",
            "_________________________________________________________________\n",
            "dense_119 (Dense)            (None, 256)               33024     \n",
            "_________________________________________________________________\n",
            "dense_120 (Dense)            (None, 256)               65792     \n",
            "_________________________________________________________________\n",
            "dense_121 (Dense)            (None, 256)               65792     \n",
            "_________________________________________________________________\n",
            "dense_122 (Dense)            (None, 1)                 257       \n",
            "=================================================================\n",
            "Total params: 166,017\n",
            "Trainable params: 166,017\n",
            "Non-trainable params: 0\n",
            "_________________________________________________________________\n"
          ],
          "name": "stdout"
        }
      ]
    },
    {
      "cell_type": "code",
      "metadata": {
        "id": "aSPhGp4oIATa",
        "colab_type": "code",
        "colab": {
          "base_uri": "https://localhost:8080/",
          "height": 136
        },
        "outputId": "152cae07-2c02-4f6c-c854-fed0680ced43"
      },
      "source": [
        "x = np.asarray(x).astype(np.float32)\n",
        "x.shape\n",
        "y=np.asarray(y).astype(np.float32)\n",
        "y"
      ],
      "execution_count": 605,
      "outputs": [
        {
          "output_type": "execute_result",
          "data": {
            "text/plain": [
              "array([[2315.],\n",
              "       [2214.],\n",
              "       [2061.],\n",
              "       ...,\n",
              "       [2908.],\n",
              "       [2975.],\n",
              "       [2774.]], dtype=float32)"
            ]
          },
          "metadata": {
            "tags": []
          },
          "execution_count": 605
        }
      ]
    },
    {
      "cell_type": "code",
      "metadata": {
        "id": "NpAm3SO9eOmf",
        "colab_type": "code",
        "colab": {
          "base_uri": "https://localhost:8080/",
          "height": 1000
        },
        "outputId": "7dbd8e20-ca01-43ba-a5a5-a0a1bd4a5e04"
      },
      "source": [
        "history =NN_model.fit(x,y, epochs=100, batch_size=32, validation_split = 0.2,verbose=2)\n"
      ],
      "execution_count": 606,
      "outputs": [
        {
          "output_type": "stream",
          "text": [
            "Epoch 1/100\n",
            "39/39 - 0s - loss: 216.2226 - mean_absolute_percentage_error: 8.4023 - val_loss: 279.1082 - val_mean_absolute_percentage_error: 11.6768\n",
            "Epoch 2/100\n",
            "39/39 - 0s - loss: 199.5815 - mean_absolute_percentage_error: 7.7291 - val_loss: 244.9584 - val_mean_absolute_percentage_error: 10.0949\n",
            "Epoch 3/100\n",
            "39/39 - 0s - loss: 192.9786 - mean_absolute_percentage_error: 7.5007 - val_loss: 243.5162 - val_mean_absolute_percentage_error: 9.3200\n",
            "Epoch 4/100\n",
            "39/39 - 0s - loss: 194.5678 - mean_absolute_percentage_error: 7.5109 - val_loss: 257.3048 - val_mean_absolute_percentage_error: 10.7689\n",
            "Epoch 5/100\n",
            "39/39 - 0s - loss: 210.8633 - mean_absolute_percentage_error: 8.2289 - val_loss: 254.0426 - val_mean_absolute_percentage_error: 10.8768\n",
            "Epoch 6/100\n",
            "39/39 - 0s - loss: 195.5737 - mean_absolute_percentage_error: 7.5907 - val_loss: 237.9495 - val_mean_absolute_percentage_error: 9.6018\n",
            "Epoch 7/100\n",
            "39/39 - 0s - loss: 211.0313 - mean_absolute_percentage_error: 8.2039 - val_loss: 228.8784 - val_mean_absolute_percentage_error: 9.2793\n",
            "Epoch 8/100\n",
            "39/39 - 0s - loss: 193.7946 - mean_absolute_percentage_error: 7.5453 - val_loss: 238.0771 - val_mean_absolute_percentage_error: 9.8369\n",
            "Epoch 9/100\n",
            "39/39 - 0s - loss: 192.2279 - mean_absolute_percentage_error: 7.4964 - val_loss: 264.0218 - val_mean_absolute_percentage_error: 11.1117\n",
            "Epoch 10/100\n",
            "39/39 - 0s - loss: 208.2283 - mean_absolute_percentage_error: 8.1281 - val_loss: 238.1101 - val_mean_absolute_percentage_error: 9.3841\n",
            "Epoch 11/100\n",
            "39/39 - 0s - loss: 195.1461 - mean_absolute_percentage_error: 7.5685 - val_loss: 242.1244 - val_mean_absolute_percentage_error: 9.4028\n",
            "Epoch 12/100\n",
            "39/39 - 0s - loss: 196.6305 - mean_absolute_percentage_error: 7.6353 - val_loss: 244.8820 - val_mean_absolute_percentage_error: 10.1051\n",
            "Epoch 13/100\n",
            "39/39 - 0s - loss: 191.0945 - mean_absolute_percentage_error: 7.4121 - val_loss: 284.2310 - val_mean_absolute_percentage_error: 12.0561\n",
            "Epoch 14/100\n",
            "39/39 - 0s - loss: 197.0265 - mean_absolute_percentage_error: 7.6400 - val_loss: 306.1740 - val_mean_absolute_percentage_error: 12.8540\n",
            "Epoch 15/100\n",
            "39/39 - 0s - loss: 196.7564 - mean_absolute_percentage_error: 7.6757 - val_loss: 257.2586 - val_mean_absolute_percentage_error: 10.6769\n",
            "Epoch 16/100\n",
            "39/39 - 0s - loss: 190.2238 - mean_absolute_percentage_error: 7.4374 - val_loss: 237.0566 - val_mean_absolute_percentage_error: 9.4759\n",
            "Epoch 17/100\n",
            "39/39 - 0s - loss: 201.4785 - mean_absolute_percentage_error: 7.8291 - val_loss: 249.7632 - val_mean_absolute_percentage_error: 9.6371\n",
            "Epoch 18/100\n",
            "39/39 - 0s - loss: 195.6121 - mean_absolute_percentage_error: 7.5852 - val_loss: 314.1708 - val_mean_absolute_percentage_error: 13.5782\n",
            "Epoch 19/100\n",
            "39/39 - 0s - loss: 219.8811 - mean_absolute_percentage_error: 8.5862 - val_loss: 269.4646 - val_mean_absolute_percentage_error: 11.2943\n",
            "Epoch 20/100\n",
            "39/39 - 0s - loss: 198.8423 - mean_absolute_percentage_error: 7.7629 - val_loss: 246.6408 - val_mean_absolute_percentage_error: 9.5033\n",
            "Epoch 21/100\n",
            "39/39 - 0s - loss: 195.7095 - mean_absolute_percentage_error: 7.5555 - val_loss: 260.7386 - val_mean_absolute_percentage_error: 10.9467\n",
            "Epoch 22/100\n",
            "39/39 - 0s - loss: 189.4543 - mean_absolute_percentage_error: 7.3668 - val_loss: 238.3004 - val_mean_absolute_percentage_error: 9.7598\n",
            "Epoch 23/100\n",
            "39/39 - 0s - loss: 186.1809 - mean_absolute_percentage_error: 7.1983 - val_loss: 272.4539 - val_mean_absolute_percentage_error: 11.5801\n",
            "Epoch 24/100\n",
            "39/39 - 0s - loss: 190.6589 - mean_absolute_percentage_error: 7.3833 - val_loss: 307.1901 - val_mean_absolute_percentage_error: 13.3593\n",
            "Epoch 25/100\n",
            "39/39 - 0s - loss: 201.0930 - mean_absolute_percentage_error: 7.7407 - val_loss: 249.5035 - val_mean_absolute_percentage_error: 10.4699\n",
            "Epoch 26/100\n",
            "39/39 - 0s - loss: 194.5024 - mean_absolute_percentage_error: 7.5808 - val_loss: 295.8966 - val_mean_absolute_percentage_error: 12.5964\n",
            "Epoch 27/100\n",
            "39/39 - 0s - loss: 196.4340 - mean_absolute_percentage_error: 7.5974 - val_loss: 264.8971 - val_mean_absolute_percentage_error: 11.3658\n",
            "Epoch 28/100\n",
            "39/39 - 0s - loss: 186.3950 - mean_absolute_percentage_error: 7.2502 - val_loss: 281.4622 - val_mean_absolute_percentage_error: 11.7771\n",
            "Epoch 29/100\n",
            "39/39 - 0s - loss: 195.0562 - mean_absolute_percentage_error: 7.5986 - val_loss: 268.6572 - val_mean_absolute_percentage_error: 11.4575\n",
            "Epoch 30/100\n",
            "39/39 - 0s - loss: 194.5002 - mean_absolute_percentage_error: 7.4723 - val_loss: 242.9700 - val_mean_absolute_percentage_error: 9.9820\n",
            "Epoch 31/100\n",
            "39/39 - 0s - loss: 210.3143 - mean_absolute_percentage_error: 8.1840 - val_loss: 347.6101 - val_mean_absolute_percentage_error: 15.1343\n",
            "Epoch 32/100\n",
            "39/39 - 0s - loss: 191.0518 - mean_absolute_percentage_error: 7.4404 - val_loss: 404.3396 - val_mean_absolute_percentage_error: 17.5279\n",
            "Epoch 33/100\n",
            "39/39 - 0s - loss: 196.9283 - mean_absolute_percentage_error: 7.6432 - val_loss: 335.1375 - val_mean_absolute_percentage_error: 14.3531\n",
            "Epoch 34/100\n",
            "39/39 - 0s - loss: 207.5612 - mean_absolute_percentage_error: 8.1152 - val_loss: 262.6674 - val_mean_absolute_percentage_error: 11.2613\n",
            "Epoch 35/100\n",
            "39/39 - 0s - loss: 191.9312 - mean_absolute_percentage_error: 7.4339 - val_loss: 267.9934 - val_mean_absolute_percentage_error: 11.5059\n",
            "Epoch 36/100\n",
            "39/39 - 0s - loss: 185.3193 - mean_absolute_percentage_error: 7.2466 - val_loss: 365.7798 - val_mean_absolute_percentage_error: 15.7516\n",
            "Epoch 37/100\n",
            "39/39 - 0s - loss: 185.0016 - mean_absolute_percentage_error: 7.1803 - val_loss: 261.7582 - val_mean_absolute_percentage_error: 9.9540\n",
            "Epoch 38/100\n",
            "39/39 - 0s - loss: 199.3356 - mean_absolute_percentage_error: 7.7310 - val_loss: 254.3608 - val_mean_absolute_percentage_error: 10.7080\n",
            "Epoch 39/100\n",
            "39/39 - 0s - loss: 182.1378 - mean_absolute_percentage_error: 7.0452 - val_loss: 248.6978 - val_mean_absolute_percentage_error: 9.7717\n",
            "Epoch 40/100\n",
            "39/39 - 0s - loss: 187.2767 - mean_absolute_percentage_error: 7.2438 - val_loss: 256.5352 - val_mean_absolute_percentage_error: 10.8083\n",
            "Epoch 41/100\n",
            "39/39 - 0s - loss: 184.2072 - mean_absolute_percentage_error: 7.1397 - val_loss: 257.7231 - val_mean_absolute_percentage_error: 10.9386\n",
            "Epoch 42/100\n",
            "39/39 - 0s - loss: 194.5723 - mean_absolute_percentage_error: 7.5648 - val_loss: 350.1997 - val_mean_absolute_percentage_error: 14.8977\n",
            "Epoch 43/100\n",
            "39/39 - 0s - loss: 204.6739 - mean_absolute_percentage_error: 7.9073 - val_loss: 272.8654 - val_mean_absolute_percentage_error: 11.8035\n",
            "Epoch 44/100\n",
            "39/39 - 0s - loss: 203.0581 - mean_absolute_percentage_error: 7.8912 - val_loss: 239.0103 - val_mean_absolute_percentage_error: 9.8073\n",
            "Epoch 45/100\n",
            "39/39 - 0s - loss: 196.7579 - mean_absolute_percentage_error: 7.6300 - val_loss: 249.2583 - val_mean_absolute_percentage_error: 9.9476\n",
            "Epoch 46/100\n",
            "39/39 - 0s - loss: 196.8548 - mean_absolute_percentage_error: 7.5975 - val_loss: 360.1440 - val_mean_absolute_percentage_error: 15.4000\n",
            "Epoch 47/100\n",
            "39/39 - 0s - loss: 186.7205 - mean_absolute_percentage_error: 7.2655 - val_loss: 241.8594 - val_mean_absolute_percentage_error: 9.6575\n",
            "Epoch 48/100\n",
            "39/39 - 0s - loss: 188.2956 - mean_absolute_percentage_error: 7.3021 - val_loss: 242.5609 - val_mean_absolute_percentage_error: 10.0064\n",
            "Epoch 49/100\n",
            "39/39 - 0s - loss: 203.0408 - mean_absolute_percentage_error: 7.9210 - val_loss: 305.8159 - val_mean_absolute_percentage_error: 12.7589\n",
            "Epoch 50/100\n",
            "39/39 - 0s - loss: 183.3810 - mean_absolute_percentage_error: 7.1313 - val_loss: 245.8827 - val_mean_absolute_percentage_error: 10.1026\n",
            "Epoch 51/100\n",
            "39/39 - 0s - loss: 188.1204 - mean_absolute_percentage_error: 7.2255 - val_loss: 337.5487 - val_mean_absolute_percentage_error: 14.3046\n",
            "Epoch 52/100\n",
            "39/39 - 0s - loss: 201.5444 - mean_absolute_percentage_error: 7.7540 - val_loss: 243.5659 - val_mean_absolute_percentage_error: 9.8603\n",
            "Epoch 53/100\n",
            "39/39 - 0s - loss: 180.9558 - mean_absolute_percentage_error: 7.0239 - val_loss: 238.5637 - val_mean_absolute_percentage_error: 9.7504\n",
            "Epoch 54/100\n",
            "39/39 - 0s - loss: 186.2226 - mean_absolute_percentage_error: 7.1895 - val_loss: 243.3376 - val_mean_absolute_percentage_error: 9.9084\n",
            "Epoch 55/100\n",
            "39/39 - 0s - loss: 180.9574 - mean_absolute_percentage_error: 7.0759 - val_loss: 335.9201 - val_mean_absolute_percentage_error: 14.0928\n",
            "Epoch 56/100\n",
            "39/39 - 0s - loss: 204.2356 - mean_absolute_percentage_error: 7.9337 - val_loss: 261.5862 - val_mean_absolute_percentage_error: 11.1065\n",
            "Epoch 57/100\n",
            "39/39 - 0s - loss: 186.3699 - mean_absolute_percentage_error: 7.2124 - val_loss: 251.5247 - val_mean_absolute_percentage_error: 10.5711\n",
            "Epoch 58/100\n",
            "39/39 - 0s - loss: 179.5966 - mean_absolute_percentage_error: 6.9970 - val_loss: 331.1932 - val_mean_absolute_percentage_error: 14.1626\n",
            "Epoch 59/100\n",
            "39/39 - 0s - loss: 182.4624 - mean_absolute_percentage_error: 7.0650 - val_loss: 251.4687 - val_mean_absolute_percentage_error: 10.3207\n",
            "Epoch 60/100\n",
            "39/39 - 0s - loss: 191.0780 - mean_absolute_percentage_error: 7.4227 - val_loss: 246.4808 - val_mean_absolute_percentage_error: 10.2185\n",
            "Epoch 61/100\n",
            "39/39 - 0s - loss: 182.2379 - mean_absolute_percentage_error: 7.0236 - val_loss: 319.3000 - val_mean_absolute_percentage_error: 13.7474\n",
            "Epoch 62/100\n",
            "39/39 - 0s - loss: 182.0772 - mean_absolute_percentage_error: 7.0377 - val_loss: 252.6167 - val_mean_absolute_percentage_error: 10.6401\n",
            "Epoch 63/100\n",
            "39/39 - 0s - loss: 183.6917 - mean_absolute_percentage_error: 7.0979 - val_loss: 251.8349 - val_mean_absolute_percentage_error: 10.6111\n",
            "Epoch 64/100\n",
            "39/39 - 0s - loss: 188.8496 - mean_absolute_percentage_error: 7.3266 - val_loss: 263.8666 - val_mean_absolute_percentage_error: 11.1917\n",
            "Epoch 65/100\n",
            "39/39 - 0s - loss: 186.1463 - mean_absolute_percentage_error: 7.2323 - val_loss: 341.0012 - val_mean_absolute_percentage_error: 14.6211\n",
            "Epoch 66/100\n",
            "39/39 - 0s - loss: 178.0550 - mean_absolute_percentage_error: 6.9380 - val_loss: 339.5525 - val_mean_absolute_percentage_error: 14.6759\n",
            "Epoch 67/100\n",
            "39/39 - 0s - loss: 179.3474 - mean_absolute_percentage_error: 6.8780 - val_loss: 406.7654 - val_mean_absolute_percentage_error: 17.4333\n",
            "Epoch 68/100\n",
            "39/39 - 0s - loss: 189.6712 - mean_absolute_percentage_error: 7.3125 - val_loss: 271.7864 - val_mean_absolute_percentage_error: 11.6301\n",
            "Epoch 69/100\n",
            "39/39 - 0s - loss: 177.8671 - mean_absolute_percentage_error: 6.8733 - val_loss: 313.3221 - val_mean_absolute_percentage_error: 13.4448\n",
            "Epoch 70/100\n",
            "39/39 - 0s - loss: 196.1864 - mean_absolute_percentage_error: 7.6565 - val_loss: 307.8346 - val_mean_absolute_percentage_error: 13.3512\n",
            "Epoch 71/100\n",
            "39/39 - 0s - loss: 185.9161 - mean_absolute_percentage_error: 7.1170 - val_loss: 248.9561 - val_mean_absolute_percentage_error: 10.5330\n",
            "Epoch 72/100\n",
            "39/39 - 0s - loss: 179.1658 - mean_absolute_percentage_error: 6.9443 - val_loss: 310.1104 - val_mean_absolute_percentage_error: 13.3279\n",
            "Epoch 73/100\n",
            "39/39 - 0s - loss: 173.6993 - mean_absolute_percentage_error: 6.7082 - val_loss: 363.4782 - val_mean_absolute_percentage_error: 15.5667\n",
            "Epoch 74/100\n",
            "39/39 - 0s - loss: 177.8914 - mean_absolute_percentage_error: 6.9270 - val_loss: 337.5730 - val_mean_absolute_percentage_error: 14.4712\n",
            "Epoch 75/100\n",
            "39/39 - 0s - loss: 182.4859 - mean_absolute_percentage_error: 7.0460 - val_loss: 276.6481 - val_mean_absolute_percentage_error: 11.5983\n",
            "Epoch 76/100\n",
            "39/39 - 0s - loss: 196.8150 - mean_absolute_percentage_error: 7.6858 - val_loss: 241.2018 - val_mean_absolute_percentage_error: 9.8864\n",
            "Epoch 77/100\n",
            "39/39 - 0s - loss: 199.3243 - mean_absolute_percentage_error: 7.7034 - val_loss: 360.2594 - val_mean_absolute_percentage_error: 15.4082\n",
            "Epoch 78/100\n",
            "39/39 - 0s - loss: 183.8906 - mean_absolute_percentage_error: 7.0828 - val_loss: 251.6278 - val_mean_absolute_percentage_error: 10.7040\n",
            "Epoch 79/100\n",
            "39/39 - 0s - loss: 174.1030 - mean_absolute_percentage_error: 6.7354 - val_loss: 254.8733 - val_mean_absolute_percentage_error: 10.8218\n",
            "Epoch 80/100\n",
            "39/39 - 0s - loss: 173.8529 - mean_absolute_percentage_error: 6.6807 - val_loss: 451.4502 - val_mean_absolute_percentage_error: 19.1946\n",
            "Epoch 81/100\n",
            "39/39 - 0s - loss: 198.3419 - mean_absolute_percentage_error: 7.6786 - val_loss: 254.4766 - val_mean_absolute_percentage_error: 10.6580\n",
            "Epoch 82/100\n",
            "39/39 - 0s - loss: 183.0506 - mean_absolute_percentage_error: 7.0061 - val_loss: 292.7510 - val_mean_absolute_percentage_error: 12.7682\n",
            "Epoch 83/100\n",
            "39/39 - 0s - loss: 190.6716 - mean_absolute_percentage_error: 7.4209 - val_loss: 272.1517 - val_mean_absolute_percentage_error: 11.5437\n",
            "Epoch 84/100\n",
            "39/39 - 0s - loss: 180.7885 - mean_absolute_percentage_error: 6.9613 - val_loss: 296.2207 - val_mean_absolute_percentage_error: 12.6505\n",
            "Epoch 85/100\n",
            "39/39 - 0s - loss: 182.5368 - mean_absolute_percentage_error: 7.1247 - val_loss: 347.2400 - val_mean_absolute_percentage_error: 14.6270\n",
            "Epoch 86/100\n",
            "39/39 - 0s - loss: 187.9527 - mean_absolute_percentage_error: 7.2726 - val_loss: 284.7733 - val_mean_absolute_percentage_error: 11.9984\n",
            "Epoch 87/100\n",
            "39/39 - 0s - loss: 172.7085 - mean_absolute_percentage_error: 6.6712 - val_loss: 309.4138 - val_mean_absolute_percentage_error: 13.1050\n",
            "Epoch 88/100\n",
            "39/39 - 0s - loss: 178.7247 - mean_absolute_percentage_error: 6.9071 - val_loss: 458.7627 - val_mean_absolute_percentage_error: 19.4287\n",
            "Epoch 89/100\n",
            "39/39 - 0s - loss: 192.5080 - mean_absolute_percentage_error: 7.4282 - val_loss: 243.8081 - val_mean_absolute_percentage_error: 9.8439\n",
            "Epoch 90/100\n",
            "39/39 - 0s - loss: 174.5888 - mean_absolute_percentage_error: 6.7336 - val_loss: 252.6085 - val_mean_absolute_percentage_error: 10.6979\n",
            "Epoch 91/100\n",
            "39/39 - 0s - loss: 183.4883 - mean_absolute_percentage_error: 7.0816 - val_loss: 389.8607 - val_mean_absolute_percentage_error: 16.5148\n",
            "Epoch 92/100\n",
            "39/39 - 0s - loss: 174.5508 - mean_absolute_percentage_error: 6.7331 - val_loss: 349.7422 - val_mean_absolute_percentage_error: 14.7466\n",
            "Epoch 93/100\n",
            "39/39 - 0s - loss: 183.0256 - mean_absolute_percentage_error: 7.0503 - val_loss: 319.0178 - val_mean_absolute_percentage_error: 13.6876\n",
            "Epoch 94/100\n",
            "39/39 - 0s - loss: 175.8038 - mean_absolute_percentage_error: 6.8401 - val_loss: 397.3052 - val_mean_absolute_percentage_error: 17.0811\n",
            "Epoch 95/100\n",
            "39/39 - 0s - loss: 174.0461 - mean_absolute_percentage_error: 6.6643 - val_loss: 405.4418 - val_mean_absolute_percentage_error: 17.2614\n",
            "Epoch 96/100\n",
            "39/39 - 0s - loss: 170.1322 - mean_absolute_percentage_error: 6.5704 - val_loss: 478.4215 - val_mean_absolute_percentage_error: 20.1068\n",
            "Epoch 97/100\n",
            "39/39 - 0s - loss: 185.7241 - mean_absolute_percentage_error: 7.2732 - val_loss: 314.1011 - val_mean_absolute_percentage_error: 13.6474\n",
            "Epoch 98/100\n",
            "39/39 - 0s - loss: 180.3967 - mean_absolute_percentage_error: 6.9736 - val_loss: 238.7252 - val_mean_absolute_percentage_error: 9.9846\n",
            "Epoch 99/100\n",
            "39/39 - 0s - loss: 181.0788 - mean_absolute_percentage_error: 6.9816 - val_loss: 255.7191 - val_mean_absolute_percentage_error: 10.7679\n",
            "Epoch 100/100\n",
            "39/39 - 0s - loss: 189.5770 - mean_absolute_percentage_error: 7.3723 - val_loss: 349.2382 - val_mean_absolute_percentage_error: 14.6290\n"
          ],
          "name": "stdout"
        }
      ]
    },
    {
      "cell_type": "code",
      "metadata": {
        "id": "dZQhjtx7ernE",
        "colab_type": "code",
        "colab": {
          "base_uri": "https://localhost:8080/",
          "height": 329
        },
        "outputId": "7eb6828f-5b3f-4340-fe20-503ef0a7cb57"
      },
      "source": [
        "import matplotlib.image  as mpimg\n",
        "import matplotlib.pyplot as plt\n",
        "\n",
        "#-----------------------------------------------------------\n",
        "# Retrieve a list of list results on training and test data\n",
        "# sets for each training epoch\n",
        "#-----------------------------------------------------------\n",
        "mape=history.history['mean_absolute_percentage_error']\n",
        "loss=history.history['loss']\n",
        "\n",
        "epochs=range(len(loss)) # Get number of epochs\n",
        "\n",
        "#------------------------------------------------\n",
        "# Plot MAE and Loss\n",
        "#------------------------------------------------\n",
        "plt.plot(epochs, mape, 'r')\n",
        "plt.plot(epochs, loss, 'b')\n",
        "plt.title('MAPE and Loss')\n",
        "plt.xlabel(\"Epochs\")\n",
        "plt.ylabel(\"Accuracy\")\n",
        "plt.legend([\"MAPE\", \"Loss\"])\n",
        "\n",
        "plt.figure()"
      ],
      "execution_count": 607,
      "outputs": [
        {
          "output_type": "execute_result",
          "data": {
            "text/plain": [
              "<Figure size 432x288 with 0 Axes>"
            ]
          },
          "metadata": {
            "tags": []
          },
          "execution_count": 607
        },
        {
          "output_type": "display_data",
          "data": {
            "image/png": "[encoded data removed]",
            "text/plain": [
              "<Figure size 432x288 with 1 Axes>"
            ]
          },
          "metadata": {
            "tags": [],
            "needs_background": "light"
          }
        },
        {
          "output_type": "display_data",
          "data": {
            "text/plain": [
              "<Figure size 432x288 with 0 Axes>"
            ]
          },
          "metadata": {
            "tags": []
          }
        }
      ]
    },
    {
      "cell_type": "code",
      "metadata": {
        "id": "WJsr110fMc0K",
        "colab_type": "code",
        "colab": {
          "base_uri": "https://localhost:8080/",
          "height": 34
        },
        "outputId": "dd7ead13-ea17-4a7f-b69b-4ca88b37ac7c"
      },
      "source": [
        "from statistics import mean\n",
        "confidence= 100-mean(mape)\n",
        "confidence\n"
      ],
      "execution_count": 609,
      "outputs": [
        {
          "output_type": "execute_result",
          "data": {
            "text/plain": [
              "92.63521749973297"
            ]
          },
          "metadata": {
            "tags": []
          },
          "execution_count": 609
        }
      ]
    },
    {
      "cell_type": "code",
      "metadata": {
        "id": "D6jJuWuqNP-g",
        "colab_type": "code",
        "colab": {}
      },
      "source": [
        "dft = pd.read_csv(\"test.csv\")"
      ],
      "execution_count": 610,
      "outputs": []
    },
    {
      "cell_type": "code",
      "metadata": {
        "id": "ux2NEXMdPuFv",
        "colab_type": "code",
        "colab": {
          "base_uri": "https://localhost:8080/",
          "height": 204
        },
        "outputId": "f447b215-6d0b-4381-9ab5-6f8ffb27bda5"
      },
      "source": [
        "dft"
      ],
      "execution_count": 611,
      "outputs": [
        {
          "output_type": "execute_result",
          "data": {
            "text/html": [
              "<div>\n",
              "<style scoped>\n",
              "    .dataframe tbody tr th:only-of-type {\n",
              "        vertical-align: middle;\n",
              "    }\n",
              "\n",
              "    .dataframe tbody tr th {\n",
              "        vertical-align: top;\n",
              "    }\n",
              "\n",
              "    .dataframe thead th {\n",
              "        text-align: right;\n",
              "    }\n",
              "</style>\n",
              "<table border=\"1\" class=\"dataframe\">\n",
              "  <thead>\n",
              "    <tr style=\"text-align: right;\">\n",
              "      <th></th>\n",
              "      <th>Patient</th>\n",
              "      <th>Weeks</th>\n",
              "      <th>FVC</th>\n",
              "      <th>Percent</th>\n",
              "      <th>Age</th>\n",
              "      <th>Sex</th>\n",
              "      <th>SmokingStatus</th>\n",
              "    </tr>\n",
              "  </thead>\n",
              "  <tbody>\n",
              "    <tr>\n",
              "      <th>0</th>\n",
              "      <td>ID00419637202311204720264</td>\n",
              "      <td>6</td>\n",
              "      <td>3020</td>\n",
              "      <td>70.186855</td>\n",
              "      <td>73</td>\n",
              "      <td>Male</td>\n",
              "      <td>Ex-smoker</td>\n",
              "    </tr>\n",
              "    <tr>\n",
              "      <th>1</th>\n",
              "      <td>ID00421637202311550012437</td>\n",
              "      <td>15</td>\n",
              "      <td>2739</td>\n",
              "      <td>82.045291</td>\n",
              "      <td>68</td>\n",
              "      <td>Male</td>\n",
              "      <td>Ex-smoker</td>\n",
              "    </tr>\n",
              "    <tr>\n",
              "      <th>2</th>\n",
              "      <td>ID00422637202311677017371</td>\n",
              "      <td>6</td>\n",
              "      <td>1930</td>\n",
              "      <td>76.672493</td>\n",
              "      <td>73</td>\n",
              "      <td>Male</td>\n",
              "      <td>Ex-smoker</td>\n",
              "    </tr>\n",
              "    <tr>\n",
              "      <th>3</th>\n",
              "      <td>ID00423637202312137826377</td>\n",
              "      <td>17</td>\n",
              "      <td>3294</td>\n",
              "      <td>79.258903</td>\n",
              "      <td>72</td>\n",
              "      <td>Male</td>\n",
              "      <td>Ex-smoker</td>\n",
              "    </tr>\n",
              "    <tr>\n",
              "      <th>4</th>\n",
              "      <td>ID00426637202313170790466</td>\n",
              "      <td>0</td>\n",
              "      <td>2925</td>\n",
              "      <td>71.824968</td>\n",
              "      <td>73</td>\n",
              "      <td>Male</td>\n",
              "      <td>Never smoked</td>\n",
              "    </tr>\n",
              "  </tbody>\n",
              "</table>\n",
              "</div>"
            ],
            "text/plain": [
              "                     Patient  Weeks   FVC    Percent  Age   Sex SmokingStatus\n",
              "0  ID00419637202311204720264      6  3020  70.186855   73  Male     Ex-smoker\n",
              "1  ID00421637202311550012437     15  2739  82.045291   68  Male     Ex-smoker\n",
              "2  ID00422637202311677017371      6  1930  76.672493   73  Male     Ex-smoker\n",
              "3  ID00423637202312137826377     17  3294  79.258903   72  Male     Ex-smoker\n",
              "4  ID00426637202313170790466      0  2925  71.824968   73  Male  Never smoked"
            ]
          },
          "metadata": {
            "tags": []
          },
          "execution_count": 611
        }
      ]
    },
    {
      "cell_type": "code",
      "metadata": {
        "id": "eCdA4ArpPxZY",
        "colab_type": "code",
        "colab": {}
      },
      "source": [
        "sex_dummy = pd.get_dummies(dft.Sex)\n",
        "smoke_dummy = pd.get_dummies(dft.SmokingStatus)\n"
      ],
      "execution_count": 612,
      "outputs": []
    },
    {
      "cell_type": "code",
      "metadata": {
        "id": "5p0T0e1TQJFB",
        "colab_type": "code",
        "colab": {}
      },
      "source": [
        "dft[\"Male\"]=sex_dummy[\"Male\"]\n",
        "dft[\"Ex-smoker\"],dft[\"Never smoked\"]=smoke_dummy[\"Ex-smoker\"],smoke_dummy[\"Never smoked\"]\n",
        "dft=dft.drop(['Sex', 'SmokingStatus'], axis=1)"
      ],
      "execution_count": 613,
      "outputs": []
    },
    {
      "cell_type": "code",
      "metadata": {
        "id": "V_k32EgXQlP1",
        "colab_type": "code",
        "colab": {}
      },
      "source": [
        "pid = list (dft[\"Patient\"])"
      ],
      "execution_count": 614,
      "outputs": []
    },
    {
      "cell_type": "code",
      "metadata": {
        "id": "aCvThwEXSEV4",
        "colab_type": "code",
        "colab": {
          "base_uri": "https://localhost:8080/",
          "height": 204
        },
        "outputId": "79efc88b-2b90-41ce-e5c0-254d535302ca"
      },
      "source": [
        "\n",
        "def getpid (x):\n",
        "\n",
        "  dfx = df_patient.loc[df_patient['Patient'] == x]\n",
        "  dfx=dfx.reset_index()\n",
        "  return dfx[\"Patient_number\"][0]\n",
        "# dfx.get_value(1, 'Patient')\n",
        "dft"
      ],
      "execution_count": 615,
      "outputs": [
        {
          "output_type": "execute_result",
          "data": {
            "text/html": [
              "<div>\n",
              "<style scoped>\n",
              "    .dataframe tbody tr th:only-of-type {\n",
              "        vertical-align: middle;\n",
              "    }\n",
              "\n",
              "    .dataframe tbody tr th {\n",
              "        vertical-align: top;\n",
              "    }\n",
              "\n",
              "    .dataframe thead th {\n",
              "        text-align: right;\n",
              "    }\n",
              "</style>\n",
              "<table border=\"1\" class=\"dataframe\">\n",
              "  <thead>\n",
              "    <tr style=\"text-align: right;\">\n",
              "      <th></th>\n",
              "      <th>Patient</th>\n",
              "      <th>Weeks</th>\n",
              "      <th>FVC</th>\n",
              "      <th>Percent</th>\n",
              "      <th>Age</th>\n",
              "      <th>Male</th>\n",
              "      <th>Ex-smoker</th>\n",
              "      <th>Never smoked</th>\n",
              "    </tr>\n",
              "  </thead>\n",
              "  <tbody>\n",
              "    <tr>\n",
              "      <th>0</th>\n",
              "      <td>ID00419637202311204720264</td>\n",
              "      <td>6</td>\n",
              "      <td>3020</td>\n",
              "      <td>70.186855</td>\n",
              "      <td>73</td>\n",
              "      <td>1</td>\n",
              "      <td>1</td>\n",
              "      <td>0</td>\n",
              "    </tr>\n",
              "    <tr>\n",
              "      <th>1</th>\n",
              "      <td>ID00421637202311550012437</td>\n",
              "      <td>15</td>\n",
              "      <td>2739</td>\n",
              "      <td>82.045291</td>\n",
              "      <td>68</td>\n",
              "      <td>1</td>\n",
              "      <td>1</td>\n",
              "      <td>0</td>\n",
              "    </tr>\n",
              "    <tr>\n",
              "      <th>2</th>\n",
              "      <td>ID00422637202311677017371</td>\n",
              "      <td>6</td>\n",
              "      <td>1930</td>\n",
              "      <td>76.672493</td>\n",
              "      <td>73</td>\n",
              "      <td>1</td>\n",
              "      <td>1</td>\n",
              "      <td>0</td>\n",
              "    </tr>\n",
              "    <tr>\n",
              "      <th>3</th>\n",
              "      <td>ID00423637202312137826377</td>\n",
              "      <td>17</td>\n",
              "      <td>3294</td>\n",
              "      <td>79.258903</td>\n",
              "      <td>72</td>\n",
              "      <td>1</td>\n",
              "      <td>1</td>\n",
              "      <td>0</td>\n",
              "    </tr>\n",
              "    <tr>\n",
              "      <th>4</th>\n",
              "      <td>ID00426637202313170790466</td>\n",
              "      <td>0</td>\n",
              "      <td>2925</td>\n",
              "      <td>71.824968</td>\n",
              "      <td>73</td>\n",
              "      <td>1</td>\n",
              "      <td>0</td>\n",
              "      <td>1</td>\n",
              "    </tr>\n",
              "  </tbody>\n",
              "</table>\n",
              "</div>"
            ],
            "text/plain": [
              "                     Patient  Weeks   FVC  ...  Male  Ex-smoker  Never smoked\n",
              "0  ID00419637202311204720264      6  3020  ...     1          1             0\n",
              "1  ID00421637202311550012437     15  2739  ...     1          1             0\n",
              "2  ID00422637202311677017371      6  1930  ...     1          1             0\n",
              "3  ID00423637202312137826377     17  3294  ...     1          1             0\n",
              "4  ID00426637202313170790466      0  2925  ...     1          0             1\n",
              "\n",
              "[5 rows x 8 columns]"
            ]
          },
          "metadata": {
            "tags": []
          },
          "execution_count": 615
        }
      ]
    },
    {
      "cell_type": "code",
      "metadata": {
        "id": "kpJVC42xlClS",
        "colab_type": "code",
        "colab": {}
      },
      "source": [
        "def getage (x):\n",
        "  dfx = dft.loc[dft['Patient'] == x]\n",
        "  dfx=dfx.reset_index()\n",
        "  return dfx[\"Age\"][0]"
      ],
      "execution_count": 616,
      "outputs": []
    },
    {
      "cell_type": "code",
      "metadata": {
        "id": "e6AiMaKCmKUO",
        "colab_type": "code",
        "colab": {}
      },
      "source": [
        "def getpercent (x):\n",
        "  dfx = dft.loc[dft['Patient'] == x]\n",
        "  dfx=dfx.reset_index()\n",
        "  return dfx[\"Percent\"][0]\n",
        "def getEx_smoker(x):\n",
        "  dfx = dft.loc[dft['Patient'] == x]\n",
        "  dfx=dfx.reset_index()\n",
        "  return dfx[\"Ex-smoker\"][0]\n",
        "def getNever_smoked(x):\n",
        "  dfx = dft.loc[dft['Patient'] == x]\n",
        "  dfx=dfx.reset_index()\n",
        "  return dfx[\"Never smoked\"][0]"
      ],
      "execution_count": 617,
      "outputs": []
    },
    {
      "cell_type": "code",
      "metadata": {
        "id": "6MqWa9-tVcrR",
        "colab_type": "code",
        "colab": {}
      },
      "source": [
        "weeks =list(range(-12 ,134))"
      ],
      "execution_count": 618,
      "outputs": []
    },
    {
      "cell_type": "code",
      "metadata": {
        "id": "CsE9aSlCi5WA",
        "colab_type": "code",
        "colab": {}
      },
      "source": [
        "n = (len(pid)*len(weeks))"
      ],
      "execution_count": 619,
      "outputs": []
    },
    {
      "cell_type": "code",
      "metadata": {
        "id": "6NZz3Y0Re80B",
        "colab_type": "code",
        "colab": {}
      },
      "source": [
        "patient_week = []\n",
        "p_id= []\n",
        "nweeks= []\n",
        "nage= []\n",
        "nPercent= []\n",
        "nmale= []\n",
        "nfemale= []\n",
        "Ex_smoker= []\n",
        "Never_smoked= []\n",
        "#for i in range (0,n+1):\n",
        "for x in pid:\n",
        "  for w in weeks:\n",
        "      patient_week.append (x + \"_\" + str(w))\n",
        "      p_id.append (getpid (x))\n",
        "      nweeks.append (w)\n",
        "      nage.append(getage(x))\n",
        "      nPercent.append(getpercent(x))\n",
        "      nmale.append(1)\n",
        "      nfemale.append(0) \n",
        "      Ex_smoker.append(getEx_smoker(x))\n",
        "      Never_smoked.append(getNever_smoked(x))"
      ],
      "execution_count": 620,
      "outputs": []
    },
    {
      "cell_type": "code",
      "metadata": {
        "id": "O8jytkr4iOuY",
        "colab_type": "code",
        "colab": {}
      },
      "source": [
        "dic = {'Weeks':nweeks,'Percent': nPercent,'Patient_number':p_id,'Male':nmale,'Female':nfemale,\"Ex-smoker\":Ex_smoker,\"Never smoked\":Never_smoked,\"Age\":nage, }"
      ],
      "execution_count": 621,
      "outputs": []
    },
    {
      "cell_type": "code",
      "metadata": {
        "id": "v66vO2Tj2jeM",
        "colab_type": "code",
        "colab": {
          "base_uri": "https://localhost:8080/",
          "height": 238
        },
        "outputId": "7547a332-932f-48a0-e744-3e927c3a58cd"
      },
      "source": [
        "ninput=pd.DataFrame.from_dict(dic)\n",
        "xxx = ninput[['Weeks','Percent','Patient_number','Male','Female',\"Ex-smoker\",\"Never smoked\",\"Age\"]].values\n",
        "xxx"
      ],
      "execution_count": 622,
      "outputs": [
        {
          "output_type": "execute_result",
          "data": {
            "text/plain": [
              "array([[-12.        ,  70.18685507, 172.        , ...,   1.        ,\n",
              "          0.        ,  73.        ],\n",
              "       [-11.        ,  70.18685507, 172.        , ...,   1.        ,\n",
              "          0.        ,  73.        ],\n",
              "       [-10.        ,  70.18685507, 172.        , ...,   1.        ,\n",
              "          0.        ,  73.        ],\n",
              "       ...,\n",
              "       [131.        ,  71.82496808, 176.        , ...,   0.        ,\n",
              "          1.        ,  73.        ],\n",
              "       [132.        ,  71.82496808, 176.        , ...,   0.        ,\n",
              "          1.        ,  73.        ],\n",
              "       [133.        ,  71.82496808, 176.        , ...,   0.        ,\n",
              "          1.        ,  73.        ]])"
            ]
          },
          "metadata": {
            "tags": []
          },
          "execution_count": 622
        }
      ]
    },
    {
      "cell_type": "code",
      "metadata": {
        "id": "VAFkvSzV2j-o",
        "colab_type": "code",
        "colab": {}
      },
      "source": [
        "xxx=np.asarray(xxx).astype(np.float32)"
      ],
      "execution_count": 623,
      "outputs": []
    },
    {
      "cell_type": "code",
      "metadata": {
        "id": "bZqrYhfE3EyJ",
        "colab_type": "code",
        "colab": {}
      },
      "source": [
        "yyy=NN_model.predict(xxx)\n",
        "yyy=np.round_(yyy)\n",
        "yyy=yyy.flatten()"
      ],
      "execution_count": 633,
      "outputs": []
    },
    {
      "cell_type": "code",
      "metadata": {
        "id": "2jwNO70g3sGj",
        "colab_type": "code",
        "colab": {}
      },
      "source": [
        "confidence = [confidence]*len(yyy)\n",
        "confidence=np.round_(confidence)\n",
        "confidence = confidence.flatten()"
      ],
      "execution_count": null,
      "outputs": []
    },
    {
      "cell_type": "code",
      "metadata": {
        "id": "lK9FY375-4gT",
        "colab_type": "code",
        "colab": {}
      },
      "source": [
        "data = {\"Patient_Week\":patient_week,\"FVC\":yyy,\"Confidence\":confidence ,}"
      ],
      "execution_count": 639,
      "outputs": []
    },
    {
      "cell_type": "code",
      "metadata": {
        "id": "wVfqZlCu_CpS",
        "colab_type": "code",
        "colab": {
          "base_uri": "https://localhost:8080/",
          "height": 419
        },
        "outputId": "0274ecee-e074-4460-f3be-f12091a57ca6"
      },
      "source": [
        "submision =pd.DataFrame.from_dict(data)\n",
        "submision"
      ],
      "execution_count": 636,
      "outputs": [
        {
          "output_type": "execute_result",
          "data": {
            "text/html": [
              "<div>\n",
              "<style scoped>\n",
              "    .dataframe tbody tr th:only-of-type {\n",
              "        vertical-align: middle;\n",
              "    }\n",
              "\n",
              "    .dataframe tbody tr th {\n",
              "        vertical-align: top;\n",
              "    }\n",
              "\n",
              "    .dataframe thead th {\n",
              "        text-align: right;\n",
              "    }\n",
              "</style>\n",
              "<table border=\"1\" class=\"dataframe\">\n",
              "  <thead>\n",
              "    <tr style=\"text-align: right;\">\n",
              "      <th></th>\n",
              "      <th>Patient_Week</th>\n",
              "      <th>FVC</th>\n",
              "      <th>Confidence</th>\n",
              "    </tr>\n",
              "  </thead>\n",
              "  <tbody>\n",
              "    <tr>\n",
              "      <th>0</th>\n",
              "      <td>ID00419637202311204720264_-12</td>\n",
              "      <td>2733.0</td>\n",
              "      <td>[92.63521749973297, 92.63521749973297, 92.6352...</td>\n",
              "    </tr>\n",
              "    <tr>\n",
              "      <th>1</th>\n",
              "      <td>ID00419637202311204720264_-11</td>\n",
              "      <td>2734.0</td>\n",
              "      <td>[92.63521749973297, 92.63521749973297, 92.6352...</td>\n",
              "    </tr>\n",
              "    <tr>\n",
              "      <th>2</th>\n",
              "      <td>ID00419637202311204720264_-10</td>\n",
              "      <td>2736.0</td>\n",
              "      <td>[92.63521749973297, 92.63521749973297, 92.6352...</td>\n",
              "    </tr>\n",
              "    <tr>\n",
              "      <th>3</th>\n",
              "      <td>ID00419637202311204720264_-9</td>\n",
              "      <td>2737.0</td>\n",
              "      <td>[92.63521749973297, 92.63521749973297, 92.6352...</td>\n",
              "    </tr>\n",
              "    <tr>\n",
              "      <th>4</th>\n",
              "      <td>ID00419637202311204720264_-8</td>\n",
              "      <td>2739.0</td>\n",
              "      <td>[92.63521749973297, 92.63521749973297, 92.6352...</td>\n",
              "    </tr>\n",
              "    <tr>\n",
              "      <th>...</th>\n",
              "      <td>...</td>\n",
              "      <td>...</td>\n",
              "      <td>...</td>\n",
              "    </tr>\n",
              "    <tr>\n",
              "      <th>725</th>\n",
              "      <td>ID00426637202313170790466_129</td>\n",
              "      <td>2962.0</td>\n",
              "      <td>[92.63521749973297, 92.63521749973297, 92.6352...</td>\n",
              "    </tr>\n",
              "    <tr>\n",
              "      <th>726</th>\n",
              "      <td>ID00426637202313170790466_130</td>\n",
              "      <td>2960.0</td>\n",
              "      <td>[92.63521749973297, 92.63521749973297, 92.6352...</td>\n",
              "    </tr>\n",
              "    <tr>\n",
              "      <th>727</th>\n",
              "      <td>ID00426637202313170790466_131</td>\n",
              "      <td>2958.0</td>\n",
              "      <td>[92.63521749973297, 92.63521749973297, 92.6352...</td>\n",
              "    </tr>\n",
              "    <tr>\n",
              "      <th>728</th>\n",
              "      <td>ID00426637202313170790466_132</td>\n",
              "      <td>2956.0</td>\n",
              "      <td>[92.63521749973297, 92.63521749973297, 92.6352...</td>\n",
              "    </tr>\n",
              "    <tr>\n",
              "      <th>729</th>\n",
              "      <td>ID00426637202313170790466_133</td>\n",
              "      <td>2955.0</td>\n",
              "      <td>[92.63521749973297, 92.63521749973297, 92.6352...</td>\n",
              "    </tr>\n",
              "  </tbody>\n",
              "</table>\n",
              "<p>730 rows × 3 columns</p>\n",
              "</div>"
            ],
            "text/plain": [
              "                      Patient_Week  ...                                         Confidence\n",
              "0    ID00419637202311204720264_-12  ...  [92.63521749973297, 92.63521749973297, 92.6352...\n",
              "1    ID00419637202311204720264_-11  ...  [92.63521749973297, 92.63521749973297, 92.6352...\n",
              "2    ID00419637202311204720264_-10  ...  [92.63521749973297, 92.63521749973297, 92.6352...\n",
              "3     ID00419637202311204720264_-9  ...  [92.63521749973297, 92.63521749973297, 92.6352...\n",
              "4     ID00419637202311204720264_-8  ...  [92.63521749973297, 92.63521749973297, 92.6352...\n",
              "..                             ...  ...                                                ...\n",
              "725  ID00426637202313170790466_129  ...  [92.63521749973297, 92.63521749973297, 92.6352...\n",
              "726  ID00426637202313170790466_130  ...  [92.63521749973297, 92.63521749973297, 92.6352...\n",
              "727  ID00426637202313170790466_131  ...  [92.63521749973297, 92.63521749973297, 92.6352...\n",
              "728  ID00426637202313170790466_132  ...  [92.63521749973297, 92.63521749973297, 92.6352...\n",
              "729  ID00426637202313170790466_133  ...  [92.63521749973297, 92.63521749973297, 92.6352...\n",
              "\n",
              "[730 rows x 3 columns]"
            ]
          },
          "metadata": {
            "tags": []
          },
          "execution_count": 636
        }
      ]
    },
    {
      "cell_type": "code",
      "metadata": {
        "id": "1L64A3XjBYSf",
        "colab_type": "code",
        "colab": {}
      },
      "source": [
        ""
      ],
      "execution_count": null,
      "outputs": []
    }
  ]
}