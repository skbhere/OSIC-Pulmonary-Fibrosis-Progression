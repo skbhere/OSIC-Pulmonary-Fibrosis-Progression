{
  "nbformat": 4,
  "nbformat_minor": 0,
  "metadata": {
    "colab": {
      "name": "Untitled9.ipynb",
      "provenance": [],
      "authorship_tag": "ABX9TyPQdjncdNKoM5rJU34YULFs",
      "include_colab_link": true
    },
    "kernelspec": {
      "name": "python3",
      "display_name": "Python 3"
    }
  },
  "cells": [
    {
      "cell_type": "markdown",
      "metadata": {
        "id": "view-in-github",
        "colab_type": "text"
      },
      "source": [
        "<a href=\"https://colab.research.google.com/github/skbhere/OSIC-Pulmonary-Fibrosis-Progression/blob/master/OSIC%20Pulmonary%20Fibrosis%20Progression.ipynb\" target=\"_parent\"><img src=\"https://colab.research.google.com/assets/colab-badge.svg\" alt=\"Open In Colab\"/></a>"
      ]
    },
    {
      "cell_type": "markdown",
      "metadata": {
        "id": "LpAzOTEvU4uO",
        "colab_type": "text"
      },
      "source": [
        "**OSIC Pulmonary Fibrosis Progression**"
      ]
    },
    {
      "cell_type": "code",
      "metadata": {
        "id": "9nW1G6YqVC_b",
        "colab_type": "code",
        "colab": {}
      },
      "source": [
        "import pandas as pd \n",
        "import numpy as np"
      ],
      "execution_count": 1,
      "outputs": []
    },
    {
      "cell_type": "code",
      "metadata": {
        "id": "mTOCmOZDU0Gr",
        "colab_type": "code",
        "colab": {}
      },
      "source": [
        "train = pd.read_csv(\"train.csv\")"
      ],
      "execution_count": 17,
      "outputs": []
    },
    {
      "cell_type": "code",
      "metadata": {
        "id": "wQ6PhZvfVSjX",
        "colab_type": "code",
        "colab": {
          "base_uri": "https://localhost:8080/",
          "height": 419
        },
        "outputId": "01121041-d48a-40dc-d17b-c8c9c1c8569d"
      },
      "source": [
        "train"
      ],
      "execution_count": 18,
      "outputs": [
        {
          "output_type": "execute_result",
          "data": {
            "text/html": [
              "<div>\n",
              "<style scoped>\n",
              "    .dataframe tbody tr th:only-of-type {\n",
              "        vertical-align: middle;\n",
              "    }\n",
              "\n",
              "    .dataframe tbody tr th {\n",
              "        vertical-align: top;\n",
              "    }\n",
              "\n",
              "    .dataframe thead th {\n",
              "        text-align: right;\n",
              "    }\n",
              "</style>\n",
              "<table border=\"1\" class=\"dataframe\">\n",
              "  <thead>\n",
              "    <tr style=\"text-align: right;\">\n",
              "      <th></th>\n",
              "      <th>Patient</th>\n",
              "      <th>Weeks</th>\n",
              "      <th>FVC</th>\n",
              "      <th>Percent</th>\n",
              "      <th>Age</th>\n",
              "      <th>Sex</th>\n",
              "      <th>SmokingStatus</th>\n",
              "    </tr>\n",
              "  </thead>\n",
              "  <tbody>\n",
              "    <tr>\n",
              "      <th>0</th>\n",
              "      <td>ID00007637202177411956430</td>\n",
              "      <td>-4</td>\n",
              "      <td>2315</td>\n",
              "      <td>58.253649</td>\n",
              "      <td>79</td>\n",
              "      <td>Male</td>\n",
              "      <td>Ex-smoker</td>\n",
              "    </tr>\n",
              "    <tr>\n",
              "      <th>1</th>\n",
              "      <td>ID00007637202177411956430</td>\n",
              "      <td>5</td>\n",
              "      <td>2214</td>\n",
              "      <td>55.712129</td>\n",
              "      <td>79</td>\n",
              "      <td>Male</td>\n",
              "      <td>Ex-smoker</td>\n",
              "    </tr>\n",
              "    <tr>\n",
              "      <th>2</th>\n",
              "      <td>ID00007637202177411956430</td>\n",
              "      <td>7</td>\n",
              "      <td>2061</td>\n",
              "      <td>51.862104</td>\n",
              "      <td>79</td>\n",
              "      <td>Male</td>\n",
              "      <td>Ex-smoker</td>\n",
              "    </tr>\n",
              "    <tr>\n",
              "      <th>3</th>\n",
              "      <td>ID00007637202177411956430</td>\n",
              "      <td>9</td>\n",
              "      <td>2144</td>\n",
              "      <td>53.950679</td>\n",
              "      <td>79</td>\n",
              "      <td>Male</td>\n",
              "      <td>Ex-smoker</td>\n",
              "    </tr>\n",
              "    <tr>\n",
              "      <th>4</th>\n",
              "      <td>ID00007637202177411956430</td>\n",
              "      <td>11</td>\n",
              "      <td>2069</td>\n",
              "      <td>52.063412</td>\n",
              "      <td>79</td>\n",
              "      <td>Male</td>\n",
              "      <td>Ex-smoker</td>\n",
              "    </tr>\n",
              "    <tr>\n",
              "      <th>...</th>\n",
              "      <td>...</td>\n",
              "      <td>...</td>\n",
              "      <td>...</td>\n",
              "      <td>...</td>\n",
              "      <td>...</td>\n",
              "      <td>...</td>\n",
              "      <td>...</td>\n",
              "    </tr>\n",
              "    <tr>\n",
              "      <th>1544</th>\n",
              "      <td>ID00426637202313170790466</td>\n",
              "      <td>13</td>\n",
              "      <td>2712</td>\n",
              "      <td>66.594637</td>\n",
              "      <td>73</td>\n",
              "      <td>Male</td>\n",
              "      <td>Never smoked</td>\n",
              "    </tr>\n",
              "    <tr>\n",
              "      <th>1545</th>\n",
              "      <td>ID00426637202313170790466</td>\n",
              "      <td>19</td>\n",
              "      <td>2978</td>\n",
              "      <td>73.126412</td>\n",
              "      <td>73</td>\n",
              "      <td>Male</td>\n",
              "      <td>Never smoked</td>\n",
              "    </tr>\n",
              "    <tr>\n",
              "      <th>1546</th>\n",
              "      <td>ID00426637202313170790466</td>\n",
              "      <td>31</td>\n",
              "      <td>2908</td>\n",
              "      <td>71.407524</td>\n",
              "      <td>73</td>\n",
              "      <td>Male</td>\n",
              "      <td>Never smoked</td>\n",
              "    </tr>\n",
              "    <tr>\n",
              "      <th>1547</th>\n",
              "      <td>ID00426637202313170790466</td>\n",
              "      <td>43</td>\n",
              "      <td>2975</td>\n",
              "      <td>73.052745</td>\n",
              "      <td>73</td>\n",
              "      <td>Male</td>\n",
              "      <td>Never smoked</td>\n",
              "    </tr>\n",
              "    <tr>\n",
              "      <th>1548</th>\n",
              "      <td>ID00426637202313170790466</td>\n",
              "      <td>59</td>\n",
              "      <td>2774</td>\n",
              "      <td>68.117081</td>\n",
              "      <td>73</td>\n",
              "      <td>Male</td>\n",
              "      <td>Never smoked</td>\n",
              "    </tr>\n",
              "  </tbody>\n",
              "</table>\n",
              "<p>1549 rows × 7 columns</p>\n",
              "</div>"
            ],
            "text/plain": [
              "                        Patient  Weeks   FVC  ...  Age   Sex SmokingStatus\n",
              "0     ID00007637202177411956430     -4  2315  ...   79  Male     Ex-smoker\n",
              "1     ID00007637202177411956430      5  2214  ...   79  Male     Ex-smoker\n",
              "2     ID00007637202177411956430      7  2061  ...   79  Male     Ex-smoker\n",
              "3     ID00007637202177411956430      9  2144  ...   79  Male     Ex-smoker\n",
              "4     ID00007637202177411956430     11  2069  ...   79  Male     Ex-smoker\n",
              "...                         ...    ...   ...  ...  ...   ...           ...\n",
              "1544  ID00426637202313170790466     13  2712  ...   73  Male  Never smoked\n",
              "1545  ID00426637202313170790466     19  2978  ...   73  Male  Never smoked\n",
              "1546  ID00426637202313170790466     31  2908  ...   73  Male  Never smoked\n",
              "1547  ID00426637202313170790466     43  2975  ...   73  Male  Never smoked\n",
              "1548  ID00426637202313170790466     59  2774  ...   73  Male  Never smoked\n",
              "\n",
              "[1549 rows x 7 columns]"
            ]
          },
          "metadata": {
            "tags": []
          },
          "execution_count": 18
        }
      ]
    },
    {
      "cell_type": "code",
      "metadata": {
        "id": "Ff06Y5OoXAaJ",
        "colab_type": "code",
        "colab": {}
      },
      "source": [
        ""
      ],
      "execution_count": null,
      "outputs": []
    }
  ]
}