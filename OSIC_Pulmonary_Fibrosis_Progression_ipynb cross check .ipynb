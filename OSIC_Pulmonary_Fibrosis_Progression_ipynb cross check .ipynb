{
  "nbformat": 4,
  "nbformat_minor": 0,
  "metadata": {
    "kernelspec": {
      "language": "python",
      "display_name": "Python 3",
      "name": "python3"
    },
    "language_info": {
      "pygments_lexer": "ipython3",
      "nbconvert_exporter": "python",
      "version": "3.6.4",
      "file_extension": ".py",
      "codemirror_mode": {
        "name": "ipython",
        "version": 3
      },
      "name": "python",
      "mimetype": "text/x-python"
    },
    "colab": {
      "name": "OSIC Pulmonary Fibrosis Progression (1).ipynb.txt",
      "provenance": [],
      "include_colab_link": true
    }
  },
  "cells": [
    {
      "cell_type": "markdown",
      "metadata": {
        "id": "view-in-github",
        "colab_type": "text"
      },
      "source": [
        "<a href=\"https://colab.research.google.com/github/skbhere/OSIC-Pulmonary-Fibrosis-Progression/blob/master/OSIC_Pulmonary_Fibrosis_Progression_ipynb%20cross%20check%20.ipynb\" target=\"_parent\"><img src=\"https://colab.research.google.com/assets/colab-badge.svg\" alt=\"Open In Colab\"/></a>"
      ]
    },
    {
      "cell_type": "code",
      "metadata": {
        "_uuid": "8f2839f25d086af736a60e9eeb907d3b93b6e0e5",
        "_cell_guid": "b1076dfc-b9ad-4769-8c92-a6c4dae69d19",
        "trusted": true,
        "id": "Oof4I4DkoC96",
        "colab_type": "code",
        "colab": {}
      },
      "source": [
        "# This Python 3 environment comes with many helpful analytics libraries installed\n",
        "# It is defined by the kaggle/python Docker image: https://github.com/kaggle/docker-python\n",
        "# For example, here's several helpful packages to load\n",
        "\n",
        "import numpy as np # linear algebra\n",
        "import pandas as pd # data processing, CSV file I/O (e.g. pd.read_csv)\n",
        "from sklearn.linear_model import LinearRegression\n",
        "\n",
        "# Input data files are available in the read-only \"../input/\" directory\n",
        "# For example, running this (by clicking run or pressing Shift+Enter) will list all files under the input directory\n",
        "\n",
        "import os\n",
        "for dirname, _, filenames in os.walk('/kaggle/input'):\n",
        "    for filename in filenames:\n",
        "        print(os.path.join(dirname, filename))\n",
        "\n",
        "# You can write up to 5GB to the current directory (/kaggle/working/) that gets preserved as output when you create a version using \"Save & Run All\" \n",
        "# You can also write temporary files to /kaggle/temp/, but they won't be saved outside of the current session"
      ],
      "execution_count": 3,
      "outputs": []
    },
    {
      "cell_type": "code",
      "metadata": {
        "_uuid": "d629ff2d2480ee46fbb7e2d37f6b5fab8052498a",
        "_cell_guid": "79c7e3d0-c299-4dcb-8224-4455121ee9b0",
        "trusted": true,
        "id": "otFmH9vBoC-B",
        "colab_type": "code",
        "colab": {}
      },
      "source": [
        "train = pd.read_csv(\"train.csv\")\n",
        "test =pd.read_csv(\"test.csv\")"
      ],
      "execution_count": 12,
      "outputs": []
    },
    {
      "cell_type": "code",
      "metadata": {
        "trusted": true,
        "id": "CUqFEwVioC-G",
        "colab_type": "code",
        "colab": {}
      },
      "source": [
        "def regres(x):\n",
        "    dfx = train.loc[train['Patient'] == x]\n",
        "    dfx=dfx.reset_index()\n",
        "    week = np.array(range(-12 ,134))\n",
        "    week=week.reshape(-1, 1)\n",
        "    x= np.array(dfx[\"Weeks\"])\n",
        "    y=np.array(dfx[\"FVC\"])\n",
        "    x=x.reshape(-1, 1)\n",
        "    y=y.reshape(-1, 1)\n",
        "    reg = LinearRegression().fit(x, y)\n",
        "    con = reg.score(x, y)*100\n",
        "    pred=reg.predict(week)\n",
        "    pred =np.round_(pred)\n",
        "    con =np.round_(con)\n",
        "    return con,pred\n"
      ],
      "execution_count": 13,
      "outputs": []
    },
    {
      "cell_type": "code",
      "metadata": {
        "trusted": true,
        "id": "K-mmRB0boC-K",
        "colab_type": "code",
        "colab": {}
      },
      "source": [
        "pid = list (test[\"Patient\"])\n",
        "confidence=[]\n",
        "FVC = []\n",
        "patient_week =[]\n",
        "cc=[]\n",
        "www=[]\n",
        "weeks =list(range(-12 ,134))\n",
        "for x in pid:\n",
        "    c,p =regres(x)\n",
        "    cc=[c]*len(p)\n",
        "    confidence.append(cc)\n",
        "    FVC.append(p)\n",
        "    \n",
        "    for w in weeks:\n",
        "        www.append(w)\n",
        "        patient_week.append (x + \"_\" + str(w))\n",
        "        "
      ],
      "execution_count": 14,
      "outputs": []
    },
    {
      "cell_type": "code",
      "metadata": {
        "trusted": true,
        "id": "Lq-GtfMnoC-P",
        "colab_type": "code",
        "colab": {}
      },
      "source": [
        "confidence = [item for sublist in confidence for item in sublist]\n",
        "FVC = np.concatenate(FVC).ravel().tolist()"
      ],
      "execution_count": 15,
      "outputs": []
    },
    {
      "cell_type": "code",
      "metadata": {
        "trusted": true,
        "id": "VSs6KMwVoC-V",
        "colab_type": "code",
        "colab": {
          "base_uri": "https://localhost:8080/",
          "height": 34
        },
        "outputId": "01b12fcb-441c-4193-d231-8c723362f9b8"
      },
      "source": [
        "len(confidence)"
      ],
      "execution_count": 16,
      "outputs": [
        {
          "output_type": "execute_result",
          "data": {
            "text/plain": [
              "730"
            ]
          },
          "metadata": {
            "tags": []
          },
          "execution_count": 16
        }
      ]
    },
    {
      "cell_type": "code",
      "metadata": {
        "trusted": true,
        "id": "UeTmzYC1oC-Z",
        "colab_type": "code",
        "colab": {}
      },
      "source": [
        "dic = {'Patient_Week':patient_week,\"FVC\":FVC,\"Confidence\":confidence,\"Weeks\":www}\n",
        "submission =pd.DataFrame.from_dict(dic)\n",
        "submission[\"Patient_Week\"]=submission[\"Patient_Week\"].astype(str)\n",
        "submission[\"FVC\"]=submission[\"FVC\"].astype(int)\n",
        "submission[\"Confidence\"]=submission[\"Confidence\"].astype(int)"
      ],
      "execution_count": 17,
      "outputs": []
    },
    {
      "cell_type": "code",
      "metadata": {
        "trusted": true,
        "id": "RFdfu8oJoC-d",
        "colab_type": "code",
        "colab": {}
      },
      "source": [
        "submission=submission.sort_values('Weeks', ascending=True)\n",
        "submission=submission.drop(columns=['Weeks'])\n"
      ],
      "execution_count": 18,
      "outputs": []
    },
    {
      "cell_type": "code",
      "metadata": {
        "trusted": true,
        "id": "8UJie9_3oC-h",
        "colab_type": "code",
        "colab": {}
      },
      "source": [
        "ss=pd.read_csv(\"sample_submission (1).csv\")"
      ],
      "execution_count": 19,
      "outputs": []
    },
    {
      "cell_type": "code",
      "metadata": {
        "trusted": true,
        "id": "Jwfutv5foC-k",
        "colab_type": "code",
        "colab": {}
      },
      "source": [
        "ss=ss.set_index('Patient_Week').join(submission.set_index('Patient_Week'),lsuffix=\"_ss\")\n"
      ],
      "execution_count": 20,
      "outputs": []
    },
    {
      "cell_type": "code",
      "metadata": {
        "trusted": true,
        "id": "CdHTV1sHoC-o",
        "colab_type": "code",
        "colab": {}
      },
      "source": [
        "submission=ss.drop(columns=['FVC_ss',\"Confidence_ss\"])\n",
        "submission.to_csv(\"submission.csv\",index = True)"
      ],
      "execution_count": 21,
      "outputs": []
    },
    {
      "cell_type": "code",
      "metadata": {
        "id": "iDrkRgCct4Zx",
        "colab_type": "code",
        "colab": {
          "base_uri": "https://localhost:8080/",
          "height": 450
        },
        "outputId": "58fe2ef8-650a-4c81-d054-095b00859b93"
      },
      "source": [
        "submission"
      ],
      "execution_count": 22,
      "outputs": [
        {
          "output_type": "execute_result",
          "data": {
            "text/html": [
              "<div>\n",
              "<style scoped>\n",
              "    .dataframe tbody tr th:only-of-type {\n",
              "        vertical-align: middle;\n",
              "    }\n",
              "\n",
              "    .dataframe tbody tr th {\n",
              "        vertical-align: top;\n",
              "    }\n",
              "\n",
              "    .dataframe thead th {\n",
              "        text-align: right;\n",
              "    }\n",
              "</style>\n",
              "<table border=\"1\" class=\"dataframe\">\n",
              "  <thead>\n",
              "    <tr style=\"text-align: right;\">\n",
              "      <th></th>\n",
              "      <th>FVC</th>\n",
              "      <th>Confidence</th>\n",
              "    </tr>\n",
              "    <tr>\n",
              "      <th>Patient_Week</th>\n",
              "      <th></th>\n",
              "      <th></th>\n",
              "    </tr>\n",
              "  </thead>\n",
              "  <tbody>\n",
              "    <tr>\n",
              "      <th>ID00419637202311204720264_-12</th>\n",
              "      <td>2854</td>\n",
              "      <td>15</td>\n",
              "    </tr>\n",
              "    <tr>\n",
              "      <th>ID00421637202311550012437_-12</th>\n",
              "      <td>2833</td>\n",
              "      <td>26</td>\n",
              "    </tr>\n",
              "    <tr>\n",
              "      <th>ID00422637202311677017371_-12</th>\n",
              "      <td>2042</td>\n",
              "      <td>66</td>\n",
              "    </tr>\n",
              "    <tr>\n",
              "      <th>ID00423637202312137826377_-12</th>\n",
              "      <td>3161</td>\n",
              "      <td>42</td>\n",
              "    </tr>\n",
              "    <tr>\n",
              "      <th>ID00426637202313170790466_-12</th>\n",
              "      <td>2932</td>\n",
              "      <td>5</td>\n",
              "    </tr>\n",
              "    <tr>\n",
              "      <th>...</th>\n",
              "      <td>...</td>\n",
              "      <td>...</td>\n",
              "    </tr>\n",
              "    <tr>\n",
              "      <th>ID00419637202311204720264_133</th>\n",
              "      <td>2545</td>\n",
              "      <td>15</td>\n",
              "    </tr>\n",
              "    <tr>\n",
              "      <th>ID00421637202311550012437_133</th>\n",
              "      <td>2608</td>\n",
              "      <td>26</td>\n",
              "    </tr>\n",
              "    <tr>\n",
              "      <th>ID00422637202311677017371_133</th>\n",
              "      <td>1354</td>\n",
              "      <td>66</td>\n",
              "    </tr>\n",
              "    <tr>\n",
              "      <th>ID00423637202312137826377_133</th>\n",
              "      <td>1824</td>\n",
              "      <td>42</td>\n",
              "    </tr>\n",
              "    <tr>\n",
              "      <th>ID00426637202313170790466_133</th>\n",
              "      <td>2776</td>\n",
              "      <td>5</td>\n",
              "    </tr>\n",
              "  </tbody>\n",
              "</table>\n",
              "<p>730 rows × 2 columns</p>\n",
              "</div>"
            ],
            "text/plain": [
              "                                FVC  Confidence\n",
              "Patient_Week                                   \n",
              "ID00419637202311204720264_-12  2854          15\n",
              "ID00421637202311550012437_-12  2833          26\n",
              "ID00422637202311677017371_-12  2042          66\n",
              "ID00423637202312137826377_-12  3161          42\n",
              "ID00426637202313170790466_-12  2932           5\n",
              "...                             ...         ...\n",
              "ID00419637202311204720264_133  2545          15\n",
              "ID00421637202311550012437_133  2608          26\n",
              "ID00422637202311677017371_133  1354          66\n",
              "ID00423637202312137826377_133  1824          42\n",
              "ID00426637202313170790466_133  2776           5\n",
              "\n",
              "[730 rows x 2 columns]"
            ]
          },
          "metadata": {
            "tags": []
          },
          "execution_count": 22
        }
      ]
    },
    {
      "cell_type": "code",
      "metadata": {
        "trusted": true,
        "id": "gXrrU7QFoC-s",
        "colab_type": "code",
        "colab": {}
      },
      "source": [
        "# org_test = test\n",
        "\n",
        "# for i in range(len(org_test)):\n",
        "#     submission.loc[submission['Patient_Week']==org_test.Patient[i]+'_'+str(org_test.Weeks[i]), 'FVC'] = org_test.FVC[i]\n",
        "#     submission.loc[submission['Patient_Week']==org_test.Patient[i]+'_'+str(org_test.Weeks[i]), 'Confidence'] = 70\n",
        "\n",
        "# submission.to_csv(\"submission.csv\",index = False)"
      ],
      "execution_count": null,
      "outputs": []
    },
    {
      "cell_type": "code",
      "metadata": {
        "id": "qd97jZRqto9l",
        "colab_type": "code",
        "colab": {}
      },
      "source": [
        "px=\"ID00421637202311550012437\""
      ],
      "execution_count": 23,
      "outputs": []
    },
    {
      "cell_type": "code",
      "metadata": {
        "trusted": true,
        "id": "b7F8KihcoC-w",
        "colab_type": "code",
        "colab": {}
      },
      "source": [
        "    dfx = train.loc[train['Patient'] == px]\n",
        "    dfx=dfx.reset_index()\n",
        "    week = np.array(range(-12 ,134))\n",
        "    week=week.reshape(-1, 1)\n",
        "    x= np.array(dfx[\"Weeks\"])\n",
        "    y=np.array(dfx[\"FVC\"])\n",
        "    x=x.reshape(-1, 1)\n",
        "    y=y.reshape(-1, 1)\n",
        "    reg = LinearRegression().fit(x, y)\n",
        "    con = reg.score(x, y)*100\n",
        "    pred=reg.predict(week)\n",
        "    pred =np.round_(pred)\n",
        "    con =np.round_(con)"
      ],
      "execution_count": 24,
      "outputs": []
    },
    {
      "cell_type": "code",
      "metadata": {
        "id": "0mF6-NwJoyL7",
        "colab_type": "code",
        "colab": {
          "base_uri": "https://localhost:8080/",
          "height": 332
        },
        "outputId": "01b2e7a6-d4d5-48e2-ce11-d0bb8e6a5684"
      },
      "source": [
        "import numpy as np\n",
        "import matplotlib.pyplot as plt\n",
        "\n",
        "# Create data\n",
        "N = 500\n",
        "\n",
        "colors = (0,0,0)\n",
        "area = np.pi*3\n",
        "\n",
        "# Plot\n",
        "# x = pred\n",
        "# y = week\n",
        "# plt.scatter(x, y, s=area, c=colors, alpha=0.5)\n",
        "x1=x\n",
        "y1=y\n",
        "plt.scatter(x1, y1, s=area, c=colors, alpha=0.5)\n",
        "plt.title('Scatter plot pythonspot.com')\n",
        "plt.xlabel('x')\n",
        "plt.ylabel('y')\n",
        "plt.show()"
      ],
      "execution_count": 25,
      "outputs": [
        {
          "output_type": "stream",
          "text": [
            "*c* argument looks like a single numeric RGB or RGBA sequence, which should be avoided as value-mapping will have precedence in case its length matches with *x* & *y*.  Please use the *color* keyword-argument or provide a 2-D array with a single row if you intend to specify the same RGB or RGBA value for all points.\n"
          ],
          "name": "stderr"
        },
        {
          "output_type": "display_data",
          "data": {
            "image/png": "[encoded data removed]",
            "text/plain": [
              "<Figure size 432x288 with 1 Axes>"
            ]
          },
          "metadata": {
            "tags": [],
            "needs_background": "light"
          }
        }
      ]
    },
    {
      "cell_type": "code",
      "metadata": {
        "id": "NhjVNSGmpDpH",
        "colab_type": "code",
        "colab": {
          "base_uri": "https://localhost:8080/",
          "height": 399
        },
        "outputId": "ad170965-7fc1-41f3-da33-3a85a7b76f18"
      },
      "source": [
        "%matplotlib inline\n",
        "import matplotlib.pyplot as plt\n",
        "\n",
        "fig= plt.figure(figsize=(18,7))\n",
        "\n",
        "axes= fig.add_axes([0.1,0.1,0.8,0.8])\n",
        "\n",
        "time = x\n",
        "position =y\n",
        "axes.plot(x, y)\n",
        "\n",
        "x1 = week\n",
        "y1 =pred\n",
        "axes.plot(x1, y1)\n",
        "\n",
        "\n",
        "\n",
        "plt.xlabel('Date')\n",
        "plt.ylabel('TN Daily Confirmed')\n",
        "\n",
        "plt.show()\n",
        "fig.savefig('TN_Daily.png')"
      ],
      "execution_count": 26,
      "outputs": [
        {
          "output_type": "display_data",
          "data": {
            "image/png": "[encoded data removed]",
            "text/plain": [
              "<Figure size 1296x504 with 1 Axes>"
            ]
          },
          "metadata": {
            "tags": [],
            "needs_background": "light"
          }
        }
      ]
    },
    {
      "cell_type": "code",
      "metadata": {
        "id": "sNi4bdRXql_e",
        "colab_type": "code",
        "colab": {}
      },
      "source": [
        "t = pd.read_csv(\"submission (1).csv\")"
      ],
      "execution_count": 27,
      "outputs": []
    },
    {
      "cell_type": "code",
      "metadata": {
        "id": "GGCdGViarszd",
        "colab_type": "code",
        "colab": {}
      },
      "source": [
        "dt =t[t[\"Patient_Week\"].str.contains(px)]"
      ],
      "execution_count": 28,
      "outputs": []
    },
    {
      "cell_type": "code",
      "metadata": {
        "id": "Jq98XRejr2AI",
        "colab_type": "code",
        "colab": {
          "base_uri": "https://localhost:8080/",
          "height": 399
        },
        "outputId": "6653c451-c6e8-4eac-a776-46214e1d4fed"
      },
      "source": [
        "yy = dt[\"FVC\"]\n",
        "%matplotlib inline\n",
        "import matplotlib.pyplot as plt\n",
        "\n",
        "fig= plt.figure(figsize=(18,7))\n",
        "\n",
        "axes= fig.add_axes([0.1,0.1,0.8,0.8])\n",
        "\n",
        "time = x\n",
        "position =y\n",
        "axes.plot(x, y)\n",
        "\n",
        "x1 = week\n",
        "y1 =pred\n",
        "axes.plot(x1, yy)\n",
        "\n",
        "\n",
        "\n",
        "plt.xlabel('Date')\n",
        "plt.ylabel('TN Daily Confirmed')\n",
        "\n",
        "plt.show()\n",
        "fig.savefig('TN_Daily.png')\n"
      ],
      "execution_count": 29,
      "outputs": [
        {
          "output_type": "display_data",
          "data": {
            "image/png": "[encoded data removed]",
            "text/plain": [
              "<Figure size 1296x504 with 1 Axes>"
            ]
          },
          "metadata": {
            "tags": [],
            "needs_background": "light"
          }
        }
      ]
    },
    {
      "cell_type": "code",
      "metadata": {
        "id": "O2z5Fzv_tAaX",
        "colab_type": "code",
        "colab": {}
      },
      "source": [
        ""
      ],
      "execution_count": null,
      "outputs": []
    }
  ]
}